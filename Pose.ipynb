{
 "cells": [
  {
   "cell_type": "code",
   "execution_count": 1,
   "metadata": {},
   "outputs": [],
   "source": [
    "import cv2 \n",
    "import mediapipe as mp\n",
    "import time"
   ]
  },
  {
   "cell_type": "code",
   "execution_count": 2,
   "metadata": {},
   "outputs": [],
   "source": [
    "class poseDetect():\n",
    "    def __init__(self,mode=False,upBody=False,smooth=True,detectioncon=0.5,trackcon=0.5):\n",
    "        \"\"\"\n",
    "        Initilize all required parameters\n",
    "        mode : Bool, False if you wanna use track and True if using detection \n",
    "        upBody : Bool, True if you wanna detect only up body else false\n",
    "        smooth : Bool, True if smooth else false\n",
    "        detectioncon : Float, value of detection confident \n",
    "        trackcon : Float, value of trackcon\n",
    "        \"\"\"\n",
    "        self.mode=mode\n",
    "        self.upBody = upBody\n",
    "        self.smooth = smooth\n",
    "        self.detectioncon=detectioncon \n",
    "        self.trackcon=trackcon\n",
    "        self.mpPose = mp.solutions.pose\n",
    "        self.mpDraw = mp.solutions.drawing_utils\n",
    "        self.pose = self.mpPose.Pose(self.mode,self.upBody,self.smooth,self.detectioncon,self.trackcon)\n",
    "\n",
    "    def findPose(self,img,draw=True):\n",
    "        \"\"\"\n",
    "        Function which uses mediapipe to find and draw pose detected\n",
    "\n",
    "        arguments :- \n",
    "        img :- Frame for which you want to find pose\n",
    "        draw :- Bool value, True if you want to draw the pose else False\n",
    "\n",
    "        Returns :- \n",
    "        img : Frame after drawing the cordinates given by mediapipe\n",
    "        \"\"\"\n",
    "        imgRGB= cv2.cvtColor(img,cv2.COLOR_BGR2RGB)\n",
    "        #imgRGB= img                               # when you record in ubuntu color format is already RGB\n",
    "\n",
    "        self.results = self.pose.process(imgRGB)\n",
    "        landmark= self.results.pose_landmarks\n",
    "        if landmark:\n",
    "            if draw:\n",
    "                self.mpDraw.draw_landmarks(img,landmark,self.mpPose.POSE_CONNECTIONS)\n",
    "            else:\n",
    "                self.mpDraw.draw_landmarks(img,landmark)\n",
    "        return img\n",
    "\n",
    "    def getPosition(self,img,draw=True):\n",
    "        \"\"\"\n",
    "        Function to get cordiinated of 33 key points detected and return them as a list \n",
    "\n",
    "        arguments :-\n",
    "        img : Frame for which key points needs to be detected\n",
    "        Draw : Bool,  True if want to draww detected coordinates on frame else false \n",
    "\n",
    "        Returns :-\n",
    "        list of 33 key points coordinates in a frame\n",
    "        \"\"\"\n",
    "        lmList=[]\n",
    "        if self.results.pose_landmarks:\n",
    "            for id,lm in enumerate(self.results.pose_landmarks.landmark):\n",
    "                h,w,c = img.shape \n",
    "                cx,cy,cz = int(lm.x*w), int(lm.y*h), int(lm.z*c) #to find value in pixels\n",
    "                lmList.append([cx,cy])\n",
    "                if draw:\n",
    "                    cv2.circle(img,(cx,cy), 4,(255,0,0),cv2.FILLED)\n",
    "        return lmList"
   ]
  },
  {
   "cell_type": "code",
   "execution_count": null,
   "metadata": {},
   "outputs": [],
   "source": []
  }
 ],
 "metadata": {
  "kernelspec": {
   "display_name": "motion-env",
   "language": "python",
   "name": "python3"
  },
  "language_info": {
   "codemirror_mode": {
    "name": "ipython",
    "version": 3
   },
   "file_extension": ".py",
   "mimetype": "text/x-python",
   "name": "python",
   "nbconvert_exporter": "python",
   "pygments_lexer": "ipython3",
   "version": "3.9.16"
  },
  "orig_nbformat": 4
 },
 "nbformat": 4,
 "nbformat_minor": 2
}
